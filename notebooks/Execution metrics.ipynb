{
 "cells": [
  {
   "cell_type": "code",
   "execution_count": 1,
   "metadata": {},
   "outputs": [
    {
     "name": "stdout",
     "output_type": "stream",
     "text": [
      "/Users/lswolkien/Devel/EngineeringMetrics\n"
     ]
    }
   ],
   "source": [
    "from IPython.display import Markdown as md\n",
    "import datetime\n",
    "import os\n",
    "try:\n",
    "    os.chdir(os.path.join(os.getcwd(), '../'))\n",
    "    print(os.getcwd())\n",
    "except:\n",
    "    pass\n",
    "\n",
    "from ia.common.jira.connection import connect\n",
    "import ia.execution.algo as algo\n",
    "import ia.execution.conf.components as components\n",
    "import ia.common.viz.conf.dashboard as conf\n",
    "\n",
    "report_start_time = datetime.datetime.now()\n",
    "report_timestamp = f'`Report executed at {report_start_time:%Y-%m-%d %H:%M}`'\n",
    "md(report_timestamp)\n",
    "\n",
    "# Access variables\n",
    "\n",
    "jira_url = os.environ['JIRA_URL']\n",
    "jira_username = os.environ['JIRA_USERNAME']\n",
    "jira_password = os.environ['JIRA_PASSWORD']\n",
    "\n",
    "conf_url = os.environ['CONFLUENCE_URL']\n",
    "conf_username = os.environ['CONFLUENCE_USERNAME']\n",
    "conf_password = os.environ['CONFLUENCE_PASSWORD']\n",
    "\n",
    "# Report variables\n",
    "\n",
    "space = \"~lswolkien\"\n",
    "parent_page = \"Reports\"\n",
    "page_title = \"Execution report\"\n",
    "projects = {\n",
    "    'DANCOE': (\"COE - Sprint board\", \"COE Sprint\"),\n",
    "    'DANMR':  (\"Retention - Sprint board\", \"Retention Sprint\"),\n",
    "    'DANSDP': (\"SDP Core - Sprint Board\", \"SDP Core Platform Sprint\"),\n",
    "    'DANTF': (\"SDP Tools & Frameworks - Sprint Board\", \"SDPTF Sprint\"),\n",
    "    'DANMIG': (\"SDP Migration - Stories Board\", \"SDP Migration Sprint\"),\n",
    "    'DANMRGCORE': (\"MrGreen Core Board\", \"MrGreen Core Sprint\"),\n",
    "#     \"DANUNCO\": (\"UNO Core - Sprint board\", \"UNO Sprint\"),\n",
    "    \"DANSRE\": (\"SRE - Sprint Board\", \"Week\")\n",
    "}\n",
    "\n",
    "last_sprints = 3\n",
    "\n",
    "dashboard = conf.Dashboard(conf_url, conf_username, conf_password, page_title, space, parent_page)\n",
    "jira_access = connect(jira_url, basic_auth=(jira_username, jira_password))\n",
    "\n",
    "projects_progress = {}\n",
    "\n",
    "for project_key, _ in projects.items():\n",
    "    projects_progress[project_key] = algo.active_sprint_progress(jira_access, project_key)\n",
    "\n",
    "\n",
    "report_head = conf.Component(\n",
    "    conf.report_head, # callable which returns content and attachments for the dashboard element\n",
    "    [f\"DM execution report in current sprint\", \"Percentage of work commited to delivered\"] # arguments for callable object\n",
    ")\n",
    "\n",
    "report_execution = conf.Component(\n",
    "    components.execution_report,\n",
    "    [projects_progress]\n",
    ")\n",
    "\n",
    "# history of execution\n",
    "\n",
    "squad_execution_history = []\n",
    "for project_key, board_sprint in projects.items():\n",
    "    board_name = board_sprint[0]\n",
    "    sprint_prefix = board_sprint[1]\n",
    "    sprints = algo.last_sprints(jira_access, board_name, last_sprints=last_sprints, sprint_name_prefix=sprint_prefix)\n",
    "    history = algo.progress_history(jira_access, project_key, sprints)\n",
    "    report_history_header = conf.Component(conf.report_heading,[\"h2\", f\"{project_key} execution history\"])\n",
    "    report_execution_history = conf.Component(components.history_execution_report, [history])\n",
    "    \n",
    "    sc_labels, sc_added, sc_removed, sc_unblocked, sc_blocked = algo.sprint_blizzard_history(\n",
    "        jira_access, project_key, history\n",
    "    )\n",
    "    report_sprint_blizzard_history = conf.Component(\n",
    "        components.sprint_blizzard_report, [sc_labels, sc_added, sc_removed, sc_unblocked, sc_blocked]\n",
    "    )\n",
    "    \n",
    "    carry_over_issues = conf.Component(components.carry_over_issues, [jira_access, project_key])\n",
    "\n",
    "    squad_execution_history.append(\n",
    "        report_history_header + report_execution_history + report_sprint_blizzard_history + carry_over_issues\n",
    "    )\n",
    "\n",
    "history_legend = \"'History of execution' - issues ('User Story', 'Task', 'Bug', 'Technical Debt') which resolution date was before sprint end date.\"\n",
    "done_on_time_legend = \"'done on time' - work items that were actually done in the sprint.\"\n",
    "done_late_legend = \"'done later' - work items that were in the sprint but finished in the next iteration(s).\"\n",
    "carry_over_lenegs = \"'Carry over' - issues that were in more than one sprint and have not yet been Done\"\n",
    "sprint_blizzard_legend = \"'Scope blizzard' - the number of issues in the sprint which were added, removed, unblocked and blocked in each sprint\"\n",
    "report_legend = conf.Component(conf.report_legend, [\n",
    "    [history_legend, done_on_time_legend, done_late_legend, sprint_blizzard_legend, carry_over_lenegs], \n",
    "    \"The execution is calculated according to the following rules:\"\n",
    "])\n",
    "# Create or Overwrite Confluance page\n",
    "dashboard.publish([\n",
    "        report_head, \n",
    "        report_legend,\n",
    "        report_execution, \n",
    "        *squad_execution_history,\n",
    "    ])"
   ]
  },
  {
   "cell_type": "code",
   "execution_count": 2,
   "metadata": {},
   "outputs": [
    {
     "data": {
      "text/markdown": [
       "` Report finished at 2020-06-25 12:40, time elapsed: 0:08:07.388655`"
      ],
      "text/plain": [
       "<IPython.core.display.Markdown object>"
      ]
     },
     "execution_count": 2,
     "metadata": {},
     "output_type": "execute_result"
    }
   ],
   "source": [
    "report_end_time = datetime.datetime.now()\n",
    "report_timestamp = f'` Report finished at {report_end_time:%Y-%m-%d %H:%M}, time elapsed: {report_end_time - report_start_time}`'\n",
    "md(report_timestamp)"
   ]
  },
  {
   "cell_type": "code",
   "execution_count": 3,
   "metadata": {},
   "outputs": [],
   "source": [
    "import glob\n",
    "files = glob.glob('*.png')\n",
    "for filename in files:\n",
    "    try:\n",
    "        os.remove(filename)\n",
    "    except:\n",
    "        print(\"Error while deleting file : \", filename)"
   ]
  }
 ],
 "metadata": {
  "kernelspec": {
   "display_name": "Python 3.7.7 64-bit ('venv': venv)",
   "language": "python",
   "name": "python37764bitvenvvenvb14993d9f44f403eab06318cd13bff2c"
  },
  "language_info": {
   "codemirror_mode": {
    "name": "ipython",
    "version": 3
   },
   "file_extension": ".py",
   "mimetype": "text/x-python",
   "name": "python",
   "nbconvert_exporter": "python",
   "pygments_lexer": "ipython3",
   "version": "3.7.7"
  }
 },
 "nbformat": 4,
 "nbformat_minor": 4
}

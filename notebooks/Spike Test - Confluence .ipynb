{
 "cells": [
  {
   "cell_type": "code",
   "execution_count": 1,
   "metadata": {
    "slideshow": {
     "slide_type": "skip"
    }
   },
   "outputs": [
    {
     "name": "stdout",
     "output_type": "stream",
     "text": [
      "/Users/lswolkien/Devel/EngineeringMetrics\n"
     ]
    },
    {
     "data": {
      "text/markdown": [
       "`Report executed at 2020-06-08 17:06`"
      ],
      "text/plain": [
       "<IPython.core.display.Markdown object>"
      ]
     },
     "execution_count": 1,
     "metadata": {},
     "output_type": "execute_result"
    }
   ],
   "source": [
    "# Change directory to workspace root so that relative path loads work correctly.\n",
    "import os\n",
    "try:\n",
    "    os.chdir(os.path.join(os.getcwd(), '../'))\n",
    "    print(os.getcwd())\n",
    "except:\n",
    "    pass\n",
    "\n",
    "from confluence.client import Confluence\n",
    "from ia.common.viz import confpage as page\n",
    "\n",
    "from IPython.display import Markdown as md\n",
    "import datetime\n",
    "report_start_time = datetime.datetime.now()\n",
    "report_timestamp = f'`Report executed at {report_start_time:%Y-%m-%d %H:%M}`'\n",
    "md(report_timestamp)"
   ]
  },
  {
   "cell_type": "markdown",
   "metadata": {},
   "source": [
    "# Report variables"
   ]
  },
  {
   "cell_type": "code",
   "execution_count": 2,
   "metadata": {},
   "outputs": [],
   "source": [
    "confluence_space_key = \"~lswolkien\"\n",
    "confluence_parent_page = \"Reports\"\n",
    "confluence_page_title = \"Test\"\n"
   ]
  },
  {
   "cell_type": "markdown",
   "metadata": {},
   "source": [
    "# Access variables"
   ]
  },
  {
   "cell_type": "code",
   "execution_count": 3,
   "metadata": {},
   "outputs": [],
   "source": [
    "conf_url = os.environ['CONFLUENCE_URL']\n",
    "conf_username = os.environ['CONFLUENCE_USERNAME']\n",
    "conf_password = os.environ['CONFLUENCE_PASSWORD']"
   ]
  },
  {
   "cell_type": "code",
   "execution_count": 4,
   "metadata": {},
   "outputs": [],
   "source": [
    "with Confluence(conf_url, (conf_username, conf_password)) as c:\n",
    "    page_builder = page.PageBuilder(c)\n",
    "    \n",
    "    content = page_builder.get_content(\n",
    "        space_key=confluence_space_key, \n",
    "        title=confluence_page_title\n",
    "    )"
   ]
  },
  {
   "cell_type": "code",
   "execution_count": 5,
   "metadata": {},
   "outputs": [
    {
     "data": {
      "text/plain": [
       "'<p class=\"auto-cursor-target\"><br /></p><table class=\"relative-table\" style=\"width: 28.25%;\"><colgroup><col style=\"width: 28.1596%;\" /><col style=\"width: 36.5854%;\" /><col style=\"width: 21.7295%;\" /><col style=\"width: 13.5255%;\" /></colgroup><tbody><tr><th>Squad</th><th>Independence factor</th><th>Date</th><th>Trend</th></tr><tr><td><ac:link><ri:page ri:content-title=\"SDP Features - Dependencies after refinement\" /><ac:plain-text-link-body><![CDATA[SDP Features]]></ac:plain-text-link-body></ac:link></td><td>80%</td><td>25/05/2020</td><td><strong><span style=\"color: rgb(0,128,0);\">&uarr;</span></strong></td></tr><tr><td>SDP compliance</td><td>90%</td><td>25/05/2020</td><td><strong><span style=\"color: rgb(0,0,255);\">&rarr;</span></strong></td></tr><tr><td>SDP Core</td><td>75%</td><td>25/05/2020</td><td><span style=\"color: rgb(255,0,0);\"><strong>&darr;</strong></span></td></tr><tr><td><br /></td><td><br /></td><td><br /></td><td><br /></td></tr><tr><td><br /></td><td><br /></td><td><br /></td><td><br /></td></tr></tbody></table><p class=\"auto-cursor-target\"><br /></p>'"
      ]
     },
     "execution_count": 5,
     "metadata": {},
     "output_type": "execute_result"
    }
   ],
   "source": [
    "content.body.storage"
   ]
  },
  {
   "cell_type": "code",
   "execution_count": 6,
   "metadata": {},
   "outputs": [
    {
     "data": {
      "text/markdown": [
       "` Report finished at 2020-06-08 17:06, time elapsed: 0:00:01.556859`"
      ],
      "text/plain": [
       "<IPython.core.display.Markdown object>"
      ]
     },
     "execution_count": 6,
     "metadata": {},
     "output_type": "execute_result"
    }
   ],
   "source": [
    "report_end_time = datetime.datetime.now()\n",
    "report_timestamp = f'` Report finished at {report_end_time:%Y-%m-%d %H:%M}, time elapsed: {report_end_time - report_start_time}`'\n",
    "md(report_timestamp)\n"
   ]
  }
 ],
 "metadata": {
  "kernelspec": {
   "display_name": "Python 3",
   "language": "python",
   "name": "python3"
  },
  "language_info": {
   "codemirror_mode": {
    "name": "ipython",
    "version": 3
   },
   "file_extension": ".py",
   "mimetype": "text/x-python",
   "name": "python",
   "nbconvert_exporter": "python",
   "pygments_lexer": "ipython3",
   "version": "3.7.7"
  }
 },
 "nbformat": 4,
 "nbformat_minor": 4
}

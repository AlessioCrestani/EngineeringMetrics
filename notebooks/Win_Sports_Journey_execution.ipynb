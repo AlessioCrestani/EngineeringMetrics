{
 "cells": [
  {
   "cell_type": "markdown",
   "metadata": {},
   "source": [
    "# Execution of <span style=\"color:red\">Win Sports Journey</span> project"
   ]
  },
  {
   "cell_type": "code",
   "execution_count": 1,
   "metadata": {},
   "outputs": [
    {
     "name": "stdout",
     "output_type": "stream",
     "text": [
      "/Users/lswolkien/Devel/jiraissueanalyzer\n"
     ]
    },
    {
     "data": {
      "text/markdown": [
       "`Report executed at 2020-06-04 08:51`"
      ],
      "text/plain": [
       "<IPython.core.display.Markdown object>"
      ]
     },
     "execution_count": 1,
     "metadata": {},
     "output_type": "execute_result"
    }
   ],
   "source": [
    "# Change directory to workspace root so that relative path loads work correctly.\n",
    "import os\n",
    "try:\n",
    "    os.chdir(os.path.join(os.getcwd(), '../'))\n",
    "    print(os.getcwd())\n",
    "except:\n",
    "    pass\n",
    "from ia.jira import connect, issue as ticket\n",
    "from confluence.client import Confluence\n",
    "from ia.confluence import content, page\n",
    "from ia.algo import dependency, project\n",
    "import datetime\n",
    "from IPython.display import Image\n",
    "from IPython.display import Markdown as md\n",
    "\n",
    "report_start_time = datetime.datetime.now()\n",
    "report_timestamp = f'`Report executed at {report_start_time:%Y-%m-%d %H:%M}`'\n",
    "md(report_timestamp)"
   ]
  },
  {
   "cell_type": "markdown",
   "metadata": {},
   "source": [
    "# Report variables"
   ]
  },
  {
   "cell_type": "code",
   "execution_count": 2,
   "metadata": {},
   "outputs": [],
   "source": [
    "confluence_space_key = \"~lswolkien\"\n",
    "confluence_parent_page = \"Reports\"\n",
    "confluence_page_title = \"Win Sports Journey execution\"\n",
    "epic_key = \"DANMR-609\"\n",
    "product_name = \"Win Sports Journey\"\n",
    "report_title = f'<span style=\"color:red\">{product_name}</span> project execution dashboard'\n",
    "report_description = f\"Project Status Report: {report_start_time:%Y-%m-%d}\"\n",
    "\n"
   ]
  },
  {
   "cell_type": "markdown",
   "metadata": {},
   "source": [
    "# Access variables"
   ]
  },
  {
   "cell_type": "code",
   "execution_count": 3,
   "metadata": {},
   "outputs": [],
   "source": [
    "jira_url = os.environ['JIRA_URL']\n",
    "jira_username = os.environ['JIRA_USERNAME']\n",
    "jira_password = os.environ['JIRA_PASSWORD']\n",
    "\n",
    "conf_url = os.environ['CONFLUENCE_URL']\n",
    "conf_username = os.environ['CONFLUENCE_USERNAME']\n",
    "conf_password = os.environ['CONFLUENCE_PASSWORD']"
   ]
  },
  {
   "cell_type": "markdown",
   "metadata": {},
   "source": [
    "## Calculate metrics based on Jira data"
   ]
  },
  {
   "cell_type": "code",
   "execution_count": 4,
   "metadata": {},
   "outputs": [],
   "source": [
    "jira = connect(jira_url, basic_auth=(jira_username, jira_password))\n",
    "\n",
    "jql = f'\"Epic Link\" = {epic_key} and issuetype not in (\"Test\")'\n",
    "status_done=('Done', 'Waiting for production')\n",
    "\n",
    "percentage_done, all_issues, done_issues = project.progress(jira, jql, status_done)"
   ]
  },
  {
   "cell_type": "markdown",
   "metadata": {},
   "source": [
    "## Publish the report on the Confluence page"
   ]
  },
  {
   "cell_type": "code",
   "execution_count": 5,
   "metadata": {},
   "outputs": [],
   "source": [
    "with Confluence(conf_url, (conf_username, conf_password)) as c:\n",
    "    page_builder = page.PageBuilder(c)\n",
    "    new_attachments = []\n",
    "\n",
    "    new_content = page.format_text(\"h2\", report_title)\n",
    "    new_content += page.format_text(\"p\", report_description)\n",
    "    new_content += page.format_text(\"h4\", \"Project related links:\")\n",
    "    new_content += page.format_text(\"p\", f'<a href=\"{jira_url}/browse/{epic_key}\">Win Sports Journey MVP business description</a>')\n",
    "    new_content += page.format_text(\"p\", f'<a href=\"{conf_url}/display/SMDP/Onsite+Messages+with+Optimizely\">Onsite Messages with Optimizely SolDef</a>')\n",
    "    new_content += page.format_text(\"h4\", \"Other usefull links:\")\n",
    "    new_content += page.format_text(\"p\", f'<a href=\"{conf_url}/pages/viewpage.action?pageId=359924452\">Workflow & Statuses definition</a>')\n",
    "    new_content += page.format_text(\"p\", f'<a href=\"{conf_url}/display/SMDP/Jira+issue+links+type+definition\">How to correctly link dependencies</a>')\n",
    "   \n",
    "        \n",
    "    project_content, project_attachments = content.project_report(percentage_done, all_issues, jql, status_done, product_name, \"Retention - Sprint board\")\n",
    "    new_content += project_content\n",
    "    new_attachments += project_attachments\n",
    "\n",
    "    # embed page with project notes\n",
    "    new_content += page.embed_conf_page(f'{product_name} Project Issues')\n",
    "\n",
    "    page_builder.create_or_update(\n",
    "        space_key=confluence_space_key, \n",
    "        title=confluence_page_title, \n",
    "        new_content=new_content, \n",
    "        attachments=new_attachments,\n",
    "        parent_page_title=confluence_parent_page\n",
    "    )\n",
    "    "
   ]
  },
  {
   "cell_type": "code",
   "execution_count": 6,
   "metadata": {},
   "outputs": [
    {
     "data": {
      "text/markdown": [
       "` Report finished at 2020-06-04 08:52, time elapsed: 0:00:27.239419`"
      ],
      "text/plain": [
       "<IPython.core.display.Markdown object>"
      ]
     },
     "execution_count": 6,
     "metadata": {},
     "output_type": "execute_result"
    }
   ],
   "source": [
    "report_end_time = datetime.datetime.now()\n",
    "report_timestamp = f'` Report finished at {report_end_time:%Y-%m-%d %H:%M}, time elapsed: {report_end_time - report_start_time}`'\n",
    "md(report_timestamp)"
   ]
  },
  {
   "cell_type": "code",
   "execution_count": 7,
   "metadata": {},
   "outputs": [],
   "source": [
    "import glob\n",
    "files = glob.glob('*.png')\n",
    "for filename in files:\n",
    "    try:\n",
    "        os.remove(filename)\n",
    "    except:\n",
    "        print(\"Error while deleting file : \", filename)"
   ]
  },
  {
   "cell_type": "code",
   "execution_count": null,
   "metadata": {},
   "outputs": [],
   "source": []
  }
 ],
 "metadata": {
  "kernelspec": {
   "display_name": "Python 3",
   "language": "python",
   "name": "python3"
  },
  "language_info": {
   "codemirror_mode": {
    "name": "ipython",
    "version": 3
   },
   "file_extension": ".py",
   "mimetype": "text/x-python",
   "name": "python",
   "nbconvert_exporter": "python",
   "pygments_lexer": "ipython3",
   "version": "3.7.7"
  }
 },
 "nbformat": 4,
 "nbformat_minor": 4
}

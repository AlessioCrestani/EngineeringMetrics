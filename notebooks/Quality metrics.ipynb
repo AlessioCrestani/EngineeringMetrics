{
 "cells": [
  {
   "cell_type": "code",
   "execution_count": 1,
   "metadata": {
    "tags": []
   },
   "outputs": [
    {
     "name": "stdout",
     "output_type": "stream",
     "text": [
      "/Users/lswolkien/Devel/EngineeringMetrics\n"
     ]
    },
    {
     "data": {
      "text/markdown": [
       "`Report executed at 2020-07-08 17:39`"
      ],
      "text/plain": [
       "<IPython.core.display.Markdown object>"
      ]
     },
     "execution_count": 1,
     "metadata": {},
     "output_type": "execute_result"
    }
   ],
   "source": [
    "# Change directory to workspace root so that relative path loads work correctly.\n",
    "from IPython.display import Markdown as md\n",
    "import datetime\n",
    "import os\n",
    "try:\n",
    "    os.chdir(os.path.join(os.getcwd(), '../'))\n",
    "    print(os.getcwd())\n",
    "except:\n",
    "    pass\n",
    "\n",
    "from ia.common.jira.connection import connect\n",
    "import ia.quality.conf.components as components\n",
    "import ia.quality.algo as algo\n",
    "import ia.common.viz.conf.dashboard as confboard\n",
    "\n",
    "\n",
    "report_start_time = datetime.datetime.now()\n",
    "report_timestamp = f'`Report executed at {report_start_time:%Y-%m-%d %H:%M}`'\n",
    "md(report_timestamp)"
   ]
  },
  {
   "cell_type": "markdown",
   "metadata": {},
   "source": [
    "# Report variables"
   ]
  },
  {
   "cell_type": "code",
   "execution_count": 2,
   "metadata": {},
   "outputs": [],
   "source": [
    "conf_space_key = \"~lswolkien\"\n",
    "conf_parent_page = \"Reports\"\n",
    "conf_page_title = \"Quality metrics\"\n",
    "PROJECT_KEYS = ('DANSRE', 'DANMR', 'DANCOE', 'DANSDP', 'DANTF', 'DANMIG', 'DANUNCO', 'DANMRGCORE')\n",
    "\n",
    "STATUS_DONE=('Done')\n",
    "ISSUE_TYPES=('Incident')#, 'Bug', 'User Story Bug')\n",
    "\n",
    "END_DATE = \"2020-07-01\"\n",
    "SPRINT_LENGTH = 14\n",
    "NO_SPRINTS = 5\n",
    "\n",
    "report_title = f'Quality metrics dashboard'\n",
    "report_description = f\"Quality Report: {report_start_time:%Y-%m-%d}\"\n",
    "\n"
   ]
  },
  {
   "cell_type": "markdown",
   "metadata": {},
   "source": [
    "# Access variables"
   ]
  },
  {
   "cell_type": "code",
   "execution_count": 3,
   "metadata": {},
   "outputs": [],
   "source": [
    "jira_url = os.environ['JIRA_URL']\n",
    "jira_username = os.environ['JIRA_USERNAME']\n",
    "jira_password = os.environ['JIRA_PASSWORD']\n",
    "\n",
    "conf_url = os.environ['CONFLUENCE_URL']\n",
    "conf_username = os.environ['CONFLUENCE_USERNAME']\n",
    "conf_password = os.environ['CONFLUENCE_PASSWORD']"
   ]
  },
  {
   "cell_type": "markdown",
   "metadata": {},
   "source": [
    "## Calculate metrics based on Jira data"
   ]
  },
  {
   "cell_type": "code",
   "execution_count": 4,
   "metadata": {
    "tags": []
   },
   "outputs": [],
   "source": [
    "jira = connect(jira_url, basic_auth=(jira_username, jira_password))\n",
    "dashboard = confboard.Dashboard(\n",
    "    conf_url, \n",
    "    conf_username, \n",
    "    conf_password, \n",
    "    conf_page_title, \n",
    "    conf_space_key, \n",
    "    conf_parent_page\n",
    ")\n",
    "\n",
    "\n",
    "all_active_maintenance = algo.maintenance_backlog(jira, PROJECT_KEYS, ISSUE_TYPES, STATUS_DONE)\n",
    "maintenance_backlog_issue_keys = [i.key for i in all_active_maintenance]\n",
    "periods = algo.get_periods(END_DATE, SPRINT_LENGTH, NO_SPRINTS)\n",
    "\n",
    "trend = algo.maintenance_trend(\n",
    "    jira, \n",
    "    periods,\n",
    "    PROJECT_KEYS, \n",
    "    ISSUE_TYPES\n",
    ")\n",
    "\n",
    "report_head = confboard.Component(confboard.report_head, [report_title, report_description])\n",
    "# labels = [f'Sprint {i}' for i in range(28, 23, -1)]\n",
    "end_dates = [i[1] for i in periods]\n",
    "labels = [f'Sprint {i}({d:%m-%d})' for i, d in enumerate(end_dates, 24)]\n",
    "quality_report = confboard.Component(components.maintenance_report, [labels, trend, maintenance_backlog_issue_keys, \"DM channel\"])\n",
    "\n",
    "dashboard.publish([report_head, quality_report])"
   ]
  },
  {
   "cell_type": "code",
   "execution_count": 5,
   "metadata": {},
   "outputs": [
    {
     "data": {
      "text/markdown": [
       "` Report finished at 2020-07-08 17:39, time elapsed: 0:00:20.208178`"
      ],
      "text/plain": [
       "<IPython.core.display.Markdown object>"
      ]
     },
     "execution_count": 5,
     "metadata": {},
     "output_type": "execute_result"
    }
   ],
   "source": [
    "report_end_time = datetime.datetime.now()\n",
    "report_timestamp = f'` Report finished at {report_end_time:%Y-%m-%d %H:%M}, time elapsed: {report_end_time - report_start_time}`'\n",
    "md(report_timestamp)"
   ]
  },
  {
   "cell_type": "code",
   "execution_count": 6,
   "metadata": {},
   "outputs": [],
   "source": [
    "import glob\n",
    "files = glob.glob('*.png')\n",
    "for filename in files:\n",
    "    try:\n",
    "        os.remove(filename)\n",
    "    except:\n",
    "        print(\"Error while deleting file : \", filename)"
   ]
  },
  {
   "cell_type": "code",
   "execution_count": null,
   "metadata": {},
   "outputs": [],
   "source": []
  },
  {
   "cell_type": "code",
   "execution_count": null,
   "metadata": {},
   "outputs": [],
   "source": []
  }
 ],
 "metadata": {
  "kernelspec": {
   "display_name": "Python 3",
   "language": "python",
   "name": "python3"
  },
  "language_info": {
   "codemirror_mode": {
    "name": "ipython",
    "version": 3
   },
   "file_extension": ".py",
   "mimetype": "text/x-python",
   "name": "python",
   "nbconvert_exporter": "python",
   "pygments_lexer": "ipython3",
   "version": "3.7.7"
  }
 },
 "nbformat": 4,
 "nbformat_minor": 4
}

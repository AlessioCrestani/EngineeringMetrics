{
 "cells": [
  {
   "cell_type": "markdown",
   "metadata": {
    "slideshow": {
     "slide_type": "slide"
    }
   },
   "source": [
    "# Calculate the external dependency factor for issues <span style=\"color:red\">after refinement</span> for the given report variables"
   ]
  },
  {
   "cell_type": "code",
   "execution_count": 1,
   "metadata": {
    "slideshow": {
     "slide_type": "skip"
    }
   },
   "outputs": [
    {
     "name": "stdout",
     "output_type": "stream",
     "text": [
      "/Users/lswolkien/Devel/EngineeringMetrics\n"
     ]
    },
    {
     "data": {
      "text/markdown": [
       "`Report executed at 2020-06-08 17:09`"
      ],
      "text/plain": [
       "<IPython.core.display.Markdown object>"
      ]
     },
     "execution_count": 1,
     "metadata": {},
     "output_type": "execute_result"
    }
   ],
   "source": [
    "# Change directory to workspace root so that relative path loads work correctly.\n",
    "from IPython.display import Markdown as md\n",
    "import datetime\n",
    "import os\n",
    "try:\n",
    "    os.chdir(os.path.join(os.getcwd(), '../'))\n",
    "    print(os.getcwd())\n",
    "except:\n",
    "    pass\n",
    "\n",
    "from ia.common.jira.connection import connect\n",
    "import ia.dependency.dashboard as dashboard\n",
    "import ia.dependency.algo as dependency\n",
    "import ia.dependency.metrics_store as metrics\n",
    "\n",
    "report_start_time = datetime.datetime.now()\n",
    "report_timestamp = f'`Report executed at {report_start_time:%Y-%m-%d %H:%M}`'\n",
    "md(report_timestamp)"
   ]
  },
  {
   "cell_type": "markdown",
   "metadata": {},
   "source": [
    "# Report variables"
   ]
  },
  {
   "cell_type": "code",
   "execution_count": 2,
   "metadata": {},
   "outputs": [],
   "source": [
    "conf_space_key = \"~lswolkien\"\n",
    "conf_parent_page = \"Reports\"\n",
    "conf_summary_page = \"Independence summary\"\n",
    "\n",
    "projects = {\n",
    "    'DANCOE': \"DANCOE - Dependencies after refinement\",\n",
    "    'DANMR': \"DANMR - Dependencies after refinement\",\n",
    "    'DANSDP': \"DANSDP - Dependencies after refinement\",\n",
    "    'DANTF': \"DANTF - Dependencies after refinement\",\n",
    "    'DANMIG': \"DANMIG - Dependencies after refinement\",\n",
    "    'DANDI': \"DANDI - Dependencies after refinement\",\n",
    "    \"DANUNCO\": \"DANUNCO - Dependencies after refinement\",\n",
    "    'DANMRGCORE': \"DANMRGCORE - Dependencies after refinement\"\n",
    "}"
   ]
  },
  {
   "cell_type": "markdown",
   "metadata": {},
   "source": [
    "# Access variables"
   ]
  },
  {
   "cell_type": "code",
   "execution_count": 3,
   "metadata": {},
   "outputs": [],
   "source": [
    "jira_url = os.environ['JIRA_URL']\n",
    "jira_username = os.environ['JIRA_USERNAME']\n",
    "jira_password = os.environ['JIRA_PASSWORD']\n",
    "\n",
    "conf_url = os.environ['CONFLUENCE_URL']\n",
    "conf_username = os.environ['CONFLUENCE_USERNAME']\n",
    "conf_password = os.environ['CONFLUENCE_PASSWORD']"
   ]
  },
  {
   "cell_type": "markdown",
   "metadata": {},
   "source": [
    "## Update metrics"
   ]
  },
  {
   "cell_type": "code",
   "execution_count": 4,
   "metadata": {},
   "outputs": [],
   "source": [
    "jira =  connect(jira_url, basic_auth=(jira_username, jira_password))\n",
    "\n",
    "# update metrics\n",
    "for jira_project_id in projects.keys():\n",
    "    jql = f'project = {jira_project_id} AND issuetype not in (\"Test\", \"Sub-Task\", \"Release\", \"Risk\", \"Incident\") and status not in (\"Done\", \"In Analysis\", \"Closed\", \"Open\")'\n",
    "    p, all_issues, all_with_dep = dependency.dependency_factor(jira, jql)\n",
    "\n",
    "    independency_factor = 100-p\n",
    "    metrics.save('after refinement', jira_project_id, independency_factor, all_issues, all_with_dep)\n",
    "    \n",
    "    conf_page_title = projects[jira_project_id]\n",
    "    metrics_history = metrics.read_independence_stats('after refinement', jira_project_id)\n",
    "\n",
    "    dashboard.publish_dependency_report(\n",
    "        conf_url,\n",
    "        conf_username,\n",
    "        conf_password,\n",
    "        conf_space_key,\n",
    "        conf_page_title,\n",
    "        conf_parent_page,\n",
    "        independency_factor,\n",
    "        all_issues,\n",
    "        all_with_dep,\n",
    "        metrics_history\n",
    "    ) \n"
   ]
  },
  {
   "cell_type": "markdown",
   "metadata": {},
   "source": [
    "## Update independence summary page"
   ]
  },
  {
   "cell_type": "code",
   "execution_count": 5,
   "metadata": {},
   "outputs": [],
   "source": [
    "metrics_history = {}\n",
    "\n",
    "for jira_project_id in projects.keys():\n",
    "    metrics_history[jira_project_id] = metrics.read_independence_stats('after refinement', jira_project_id)\n",
    "\n",
    "dashboard.publish_dependency_summary_report(\n",
    "    conf_url,\n",
    "    conf_username,\n",
    "    conf_password,\n",
    "    conf_space_key,\n",
    "    conf_parent_page,\n",
    "    conf_summary_page,\n",
    "    projects,\n",
    "    metrics_history,\n",
    "    jira\n",
    ")\n",
    "\n",
    "\n",
    "\n"
   ]
  },
  {
   "cell_type": "code",
   "execution_count": 6,
   "metadata": {},
   "outputs": [
    {
     "data": {
      "text/markdown": [
       "` Report finished at 2020-06-08 17:11, time elapsed: 0:02:25.606287`"
      ],
      "text/plain": [
       "<IPython.core.display.Markdown object>"
      ]
     },
     "execution_count": 6,
     "metadata": {},
     "output_type": "execute_result"
    }
   ],
   "source": [
    "report_end_time = datetime.datetime.now()\n",
    "report_timestamp = f'` Report finished at {report_end_time:%Y-%m-%d %H:%M}, time elapsed: {report_end_time - report_start_time}`'\n",
    "md(report_timestamp)\n"
   ]
  },
  {
   "cell_type": "markdown",
   "metadata": {},
   "source": [
    "## Tear down"
   ]
  },
  {
   "cell_type": "code",
   "execution_count": 7,
   "metadata": {},
   "outputs": [],
   "source": [
    "\n",
    "import glob\n",
    "files = glob.glob('*.png')\n",
    "for filename in files:\n",
    "    try:\n",
    "        os.remove(filename)\n",
    "    except:\n",
    "        print(\"Error while deleting file : \", filename)"
   ]
  },
  {
   "cell_type": "code",
   "execution_count": null,
   "metadata": {},
   "outputs": [],
   "source": []
  }
 ],
 "metadata": {
  "kernelspec": {
   "display_name": "Python 3",
   "language": "python",
   "name": "python3"
  },
  "language_info": {
   "codemirror_mode": {
    "name": "ipython",
    "version": 3
   },
   "file_extension": ".py",
   "mimetype": "text/x-python",
   "name": "python",
   "nbconvert_exporter": "python",
   "pygments_lexer": "ipython3",
   "version": "3.7.7"
  }
 },
 "nbformat": 4,
 "nbformat_minor": 4
}

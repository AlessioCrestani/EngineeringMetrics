{
 "cells": [
  {
   "cell_type": "markdown",
   "metadata": {
    "slideshow": {
     "slide_type": "slide"
    }
   },
   "source": [
    "# Calculate the external dependency factor for issues <span style=\"color:red\">after refinement</span> for the given report variables"
   ]
  },
  {
   "cell_type": "code",
   "execution_count": 1,
   "metadata": {
    "slideshow": {
     "slide_type": "skip"
    }
   },
   "outputs": [
    {
     "name": "stdout",
     "output_type": "stream",
     "text": [
      "/Users/lswolkien/Devel/EngineeringMetrics\n"
     ]
    },
    {
     "data": {
      "text/markdown": [
       "`Report executed at 2020-07-03 15:04`"
      ],
      "text/plain": [
       "<IPython.core.display.Markdown object>"
      ]
     },
     "execution_count": 1,
     "metadata": {},
     "output_type": "execute_result"
    }
   ],
   "source": [
    "# Change directory to workspace root so that relative path loads work correctly.\n",
    "from IPython.display import Markdown as md\n",
    "import os\n",
    "import datetime\n",
    "try:\n",
    "    os.chdir(os.path.join(os.getcwd(), '../'))\n",
    "    print(os.getcwd())\n",
    "except:\n",
    "    pass\n",
    "\n",
    "from ia.common.jira.connection import connect\n",
    "import ia.dependency.conf.components as components\n",
    "import ia.dependency.algo as dependency\n",
    "import ia.dependency.metrics_store as metrics\n",
    "import ia.common.viz.conf.dashboard as confboard\n",
    "\n",
    "\n",
    "report_start_time = datetime.datetime.now()\n",
    "report_timestamp = f'`Report executed at {report_start_time:%Y-%m-%d %H:%M}`'\n",
    "md(report_timestamp)"
   ]
  },
  {
   "cell_type": "markdown",
   "metadata": {},
   "source": [
    "# Report variables"
   ]
  },
  {
   "cell_type": "code",
   "execution_count": 2,
   "metadata": {},
   "outputs": [],
   "source": [
    "conf_space_key = \"~lswolkien\"\n",
    "conf_parent_page = \"Reports\"\n",
    "conf_summary_page = \"Independence summary\"\n",
    "\n",
    "projects = {\n",
    "    'DANCOE': \"DANCOE - Dependencies after refinement\",\n",
    "    'DANMR': \"DANMR - Dependencies after refinement\",\n",
    "    'DANSDP': \"DANSDP - Dependencies after refinement\",\n",
    "    'DANTF': \"DANTF - Dependencies after refinement\",\n",
    "    'DANMIG': \"DANMIG - Dependencies after refinement\",\n",
    "#     'DANDI': \"DANDI - Dependencies after refinement\",\n",
    "    'DANMRGCORE': \"DANMRGCORE - Dependencies after refinement\",\n",
    "    \"DANUNCO\": \"DANUNCO - Dependencies after refinement\",\n",
    "    \"DANSRE\": \"DANSRE - Dependencies after refinement\",\n",
    "}\n",
    "report_title='External dependency factor for issues after refinement' \n",
    "report_description=\"The number of issues with external dependencies to the total number of issues not Done yet,\\\n",
    "but after refinement (in the backlog or in the sprint)\"\n"
   ]
  },
  {
   "cell_type": "markdown",
   "metadata": {},
   "source": [
    "# Access variables"
   ]
  },
  {
   "cell_type": "code",
   "execution_count": 3,
   "metadata": {},
   "outputs": [],
   "source": [
    "jira_url = os.environ['JIRA_URL']\n",
    "jira_username = os.environ['JIRA_USERNAME']\n",
    "jira_password = os.environ['JIRA_PASSWORD']\n",
    "\n",
    "conf_url = os.environ['CONFLUENCE_URL']\n",
    "conf_username = os.environ['CONFLUENCE_USERNAME']\n",
    "conf_password = os.environ['CONFLUENCE_PASSWORD']"
   ]
  },
  {
   "cell_type": "markdown",
   "metadata": {},
   "source": [
    "## Update metrics"
   ]
  },
  {
   "cell_type": "code",
   "execution_count": 4,
   "metadata": {},
   "outputs": [],
   "source": [
    "dashboard = confboard.Dashboard(conf_url, conf_username, conf_password)\n",
    "jira =  connect(jira_url, basic_auth=(jira_username, jira_password))\n",
    "metrics_history = {}\n",
    "for jira_project_id in projects.keys():\n",
    "    jql = f'project = {jira_project_id} AND issuetype not in (\"Test\", \"Sub-Task\", \"Release\", \"Risk\", \"Incident\") and status not in (\"Done\", \"In Analysis\", \"Closed\", \"Open\")'\n",
    "    p, all_issues, all_with_dep = dependency.dependency_factor(jira, jql)\n",
    "    independency_factor = 100-p\n",
    "\n",
    "    metrics.save('after refinement', jira_project_id, independency_factor, all_issues, all_with_dep)\n",
    "    metrics_history[jira_project_id] = metrics.read_independence_stats('after refinement', jira_project_id)\n",
    "\n",
    "    report_head = confboard.Component(confboard.report_head, [report_title, report_description])\n",
    "    report_dependency = confboard.Component(\n",
    "        components.dependency_report, \n",
    "        [independency_factor, all_issues, all_with_dep, metrics_history[jira_project_id]]\n",
    "    )\n",
    "\n",
    "    conf_page_title = projects[jira_project_id]\n",
    "    dashboard.publish([report_head, report_dependency], conf_page_title, conf_space_key, conf_parent_page)\n",
    "\n",
    "report_head = confboard.Component(confboard.report_head, [\"Independence after refinement\", None])\n",
    "report_summary = confboard.Component(components.dependency_summary, [jira, metrics_history, projects.keys()])\n",
    "\n",
    "\n",
    "\n",
    "legend_1 = \"searches for 'external' dependencies that can be direct or indirect (internal dependencies are ignored)\"\n",
    "legend_2 = \"issuetype not in ('Test', 'Sub-Task', 'Release', 'Risk', 'Incident')\"\n",
    "legend_3 = \"status not in ('Done', 'In Analysis', 'Open')'. We only consider work items after refinement\"\n",
    "legend_4 = \"link type in ('Is blocked by', or 'Depends on').\"\n",
    "legend_5 = \"related dependencies are filtered if their status is 'Done'.\"\n",
    "legend_6 = \"plus Jira items in the Blocked state that don't have links. This is taken into account because there are teams that do not use Jira\"\n",
    "\n",
    "report_legend = confboard.Component(confboard.report_legend, [\n",
    "    [legend_1, legend_2, legend_3, legend_4, legend_5, legend_6], \"The dependency factor legend:\"\n",
    "])\n",
    "\n",
    "dashboard.publish([report_head, report_legend, report_summary], conf_summary_page, conf_space_key, conf_parent_page)\n"
   ]
  },
  {
   "cell_type": "code",
   "execution_count": 5,
   "metadata": {},
   "outputs": [
    {
     "data": {
      "text/markdown": [
       "` Report finished at 2020-07-03 15:07, time elapsed: 0:03:01.267066`"
      ],
      "text/plain": [
       "<IPython.core.display.Markdown object>"
      ]
     },
     "execution_count": 5,
     "metadata": {},
     "output_type": "execute_result"
    }
   ],
   "source": [
    "report_end_time = datetime.datetime.now()\n",
    "report_timestamp = f'` Report finished at {report_end_time:%Y-%m-%d %H:%M}, time elapsed: {report_end_time - report_start_time}`'\n",
    "md(report_timestamp)\n"
   ]
  },
  {
   "cell_type": "markdown",
   "metadata": {},
   "source": [
    "## Tear down"
   ]
  },
  {
   "cell_type": "code",
   "execution_count": 6,
   "metadata": {},
   "outputs": [],
   "source": [
    "\n",
    "import glob\n",
    "files = glob.glob('*.png')\n",
    "for filename in files:\n",
    "    try:\n",
    "        os.remove(filename)\n",
    "    except:\n",
    "        print(\"Error while deleting file : \", filename)"
   ]
  }
 ],
 "metadata": {
  "kernelspec": {
   "display_name": "Python 3",
   "language": "python",
   "name": "python3"
  },
  "language_info": {
   "codemirror_mode": {
    "name": "ipython",
    "version": 3
   },
   "file_extension": ".py",
   "mimetype": "text/x-python",
   "name": "python",
   "nbconvert_exporter": "python",
   "pygments_lexer": "ipython3",
   "version": "3.7.7"
  }
 },
 "nbformat": 4,
 "nbformat_minor": 4
}

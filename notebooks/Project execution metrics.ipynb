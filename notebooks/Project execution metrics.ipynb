{
 "cells": [
  {
   "cell_type": "markdown",
   "metadata": {},
   "source": [
    "# Execution of <span style=\"color:red\">Win Sports Journey</span> project"
   ]
  },
  {
   "cell_type": "code",
   "execution_count": 1,
   "metadata": {},
   "outputs": [
    {
     "name": "stdout",
     "output_type": "stream",
     "text": [
      "/Users/lswolkien/Devel/EngineeringMetrics\n"
     ]
    },
    {
     "data": {
      "text/markdown": [
       "`Report executed at 2020-06-14 13:47`"
      ],
      "text/plain": [
       "<IPython.core.display.Markdown object>"
      ]
     },
     "execution_count": 1,
     "metadata": {},
     "output_type": "execute_result"
    }
   ],
   "source": [
    "# Change directory to workspace root so that relative path loads work correctly.\n",
    "from IPython.display import Markdown as md\n",
    "import datetime\n",
    "import os\n",
    "try:\n",
    "    os.chdir(os.path.join(os.getcwd(), '../'))\n",
    "    print(os.getcwd())\n",
    "except:\n",
    "    pass\n",
    "\n",
    "from ia.common.jira.connection import connect\n",
    "import ia.project.conf.components as components\n",
    "import ia.project.algo as project\n",
    "import ia.common.viz.conf.dashboard as confboard\n",
    "\n",
    "\n",
    "report_start_time = datetime.datetime.now()\n",
    "report_timestamp = f'`Report executed at {report_start_time:%Y-%m-%d %H:%M}`'\n",
    "md(report_timestamp)"
   ]
  },
  {
   "cell_type": "markdown",
   "metadata": {},
   "source": [
    "# Report variables"
   ]
  },
  {
   "cell_type": "code",
   "execution_count": 2,
   "metadata": {},
   "outputs": [],
   "source": [
    "conf_space_key = \"~lswolkien\"\n",
    "conf_parent_page = \"Reports\"\n",
    "conf_page_title = \"Win Sports Journey execution\"\n",
    "epic_key = \"DANMR-609\"\n",
    "product_name = \"Win Sports Journey\"\n",
    "board_name = \"Retention - Sprint board\"\n",
    "report_title = f'<span style=\"color:red\">{product_name}</span> project execution dashboard'\n",
    "report_description = f\"Project Status Report: {report_start_time:%Y-%m-%d}\"\n",
    "\n"
   ]
  },
  {
   "cell_type": "markdown",
   "metadata": {},
   "source": [
    "# Access variables"
   ]
  },
  {
   "cell_type": "code",
   "execution_count": 3,
   "metadata": {},
   "outputs": [],
   "source": [
    "jira_url = os.environ['JIRA_URL']\n",
    "jira_username = os.environ['JIRA_USERNAME']\n",
    "jira_password = os.environ['JIRA_PASSWORD']\n",
    "\n",
    "conf_url = os.environ['CONFLUENCE_URL']\n",
    "conf_username = os.environ['CONFLUENCE_USERNAME']\n",
    "conf_password = os.environ['CONFLUENCE_PASSWORD']"
   ]
  },
  {
   "cell_type": "markdown",
   "metadata": {},
   "source": [
    "## Calculate metrics based on Jira data"
   ]
  },
  {
   "cell_type": "code",
   "execution_count": 4,
   "metadata": {},
   "outputs": [],
   "source": [
    "jira = connect(jira_url, basic_auth=(jira_username, jira_password))\n",
    "dashboard = confboard.Dashboard(\n",
    "    conf_url, \n",
    "    conf_username, \n",
    "    conf_password, \n",
    "    conf_page_title, \n",
    "    conf_space_key, \n",
    "    conf_parent_page\n",
    ")\n",
    "\n",
    "jql = f'\"Epic Link\" = {epic_key}'\n",
    "status_done=('Done', 'Waiting for production')\n",
    "\n",
    "percentage_done, all_issues, done_issues = project.progress(jira, jql, status_done)\n",
    "\n",
    "report_head = confboard.Component(confboard.report_head, [report_title, report_description])\n",
    "prj_report = confboard.Component(components.project_report, [percentage_done, all_issues, jql, status_done, product_name, board_name])\n",
    "prj_notes = confboard.Component(confboard.report_notes, [f'{product_name} Project Issues'])\n",
    "\n",
    "dashboard.publish([report_head, prj_report, prj_notes])"
   ]
  },
  {
   "cell_type": "markdown",
   "metadata": {},
   "source": [
    "## Publish the report on the Confluence page"
   ]
  },
  {
   "cell_type": "code",
   "execution_count": 5,
   "metadata": {},
   "outputs": [
    {
     "data": {
      "text/markdown": [
       "` Report finished at 2020-06-14 13:47, time elapsed: 0:00:30.769536`"
      ],
      "text/plain": [
       "<IPython.core.display.Markdown object>"
      ]
     },
     "execution_count": 5,
     "metadata": {},
     "output_type": "execute_result"
    }
   ],
   "source": [
    "report_end_time = datetime.datetime.now()\n",
    "report_timestamp = f'` Report finished at {report_end_time:%Y-%m-%d %H:%M}, time elapsed: {report_end_time - report_start_time}`'\n",
    "md(report_timestamp)"
   ]
  },
  {
   "cell_type": "code",
   "execution_count": 6,
   "metadata": {},
   "outputs": [],
   "source": [
    "import glob\n",
    "files = glob.glob('*.png')\n",
    "for filename in files:\n",
    "    try:\n",
    "        os.remove(filename)\n",
    "    except:\n",
    "        print(\"Error while deleting file : \", filename)"
   ]
  },
  {
   "cell_type": "code",
   "execution_count": null,
   "metadata": {},
   "outputs": [],
   "source": []
  }
 ],
 "metadata": {
  "kernelspec": {
   "display_name": "Python 3",
   "language": "python",
   "name": "python3"
  },
  "language_info": {
   "codemirror_mode": {
    "name": "ipython",
    "version": 3
   },
   "file_extension": ".py",
   "mimetype": "text/x-python",
   "name": "python",
   "nbconvert_exporter": "python",
   "pygments_lexer": "ipython3",
   "version": "3.7.7"
  }
 },
 "nbformat": 4,
 "nbformat_minor": 4
}

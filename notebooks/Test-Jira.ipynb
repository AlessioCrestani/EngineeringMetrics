{
 "cells": [
  {
   "cell_type": "code",
   "execution_count": 1,
   "metadata": {
    "slideshow": {
     "slide_type": "skip"
    }
   },
   "outputs": [
    {
     "name": "stdout",
     "output_type": "stream",
     "text": [
      "/Users/lswolkien/Devel/EngineeringMetrics\n"
     ]
    },
    {
     "data": {
      "text/markdown": [
       "`Report executed at 2020-06-05 10:52`"
      ],
      "text/plain": [
       "<IPython.core.display.Markdown object>"
      ]
     },
     "execution_count": 1,
     "metadata": {},
     "output_type": "execute_result"
    }
   ],
   "source": [
    "# Change directory to workspace root so that relative path loads work correctly.\n",
    "import os\n",
    "try:\n",
    "    os.chdir(os.path.join(os.getcwd(), '../'))\n",
    "    print(os.getcwd())\n",
    "except:\n",
    "    pass\n",
    "from ia.jira import connect\n",
    "from ia.jira import issue as ticket\n",
    "from ia.algo import dependency, project\n",
    "from IPython.display import Image\n",
    "from IPython.display import Markdown as md\n",
    "import datetime\n",
    "import json\n",
    "\n",
    "report_start_time = datetime.datetime.now()\n",
    "report_timestamp = f'`Report executed at {report_start_time:%Y-%m-%d %H:%M}`'\n",
    "md(report_timestamp)"
   ]
  },
  {
   "cell_type": "markdown",
   "metadata": {},
   "source": [
    "# Access variables"
   ]
  },
  {
   "cell_type": "code",
   "execution_count": 2,
   "metadata": {},
   "outputs": [],
   "source": [
    "jira_url = os.environ['JIRA_URL']\n",
    "jira_username = os.environ['JIRA_USERNAME']\n",
    "jira_password = os.environ['JIRA_PASSWORD']\n"
   ]
  },
  {
   "cell_type": "code",
   "execution_count": 3,
   "metadata": {},
   "outputs": [],
   "source": [
    "jira = connect(jira_url, basic_auth=(jira_username, jira_password))\n"
   ]
  },
  {
   "cell_type": "code",
   "execution_count": 4,
   "metadata": {},
   "outputs": [],
   "source": [
    "issue_story = ticket.get_issue_by_key(jira, \"DANSDP-1258\")"
   ]
  },
  {
   "cell_type": "code",
   "execution_count": 5,
   "metadata": {},
   "outputs": [
    {
     "name": "stdout",
     "output_type": "stream",
     "text": [
      "DANMR-144 - Blocks - outwardIssue\n",
      "DANMR-520 - Blocks - outwardIssue\n",
      "GPLAT-4145 - Blocks - inwardIssue\n",
      "GPLAT-4105 - Blocks - inwardIssue\n",
      "GPLAT-4148 - Blocks - inwardIssue\n",
      "DANSDP-1400 - Related To - outwardIssue\n",
      "DANSDP-1408 - Related To - inwardIssue\n",
      "DANSDP-665 - Related To - inwardIssue\n"
     ]
    }
   ],
   "source": [
    "for link in issue_story.fields.issuelinks:\n",
    "    l_type = 'inwardIssue' if hasattr(link, 'inwardIssue') else 'outwardIssue'\n",
    "    link.key = getattr(link, l_type).key\n",
    "    print(f'{link.key} - {link.type.name} - {l_type}')"
   ]
  },
  {
   "cell_type": "code",
   "execution_count": 6,
   "metadata": {},
   "outputs": [
    {
     "data": {
      "text/markdown": [
       "` Report finished at 2020-06-05 10:52, time elapsed: 0:00:03.264528`"
      ],
      "text/plain": [
       "<IPython.core.display.Markdown object>"
      ]
     },
     "execution_count": 6,
     "metadata": {},
     "output_type": "execute_result"
    }
   ],
   "source": [
    "report_end_time = datetime.datetime.now()\n",
    "report_timestamp = f'` Report finished at {report_end_time:%Y-%m-%d %H:%M}, time elapsed: {report_end_time - report_start_time}`'\n",
    "md(report_timestamp)\n"
   ]
  }
 ],
 "metadata": {
  "kernelspec": {
   "display_name": "Python 3",
   "language": "python",
   "name": "python3"
  },
  "language_info": {
   "codemirror_mode": {
    "name": "ipython",
    "version": 3
   },
   "file_extension": ".py",
   "mimetype": "text/x-python",
   "name": "python",
   "nbconvert_exporter": "python",
   "pygments_lexer": "ipython3",
   "version": "3.7.7"
  }
 },
 "nbformat": 4,
 "nbformat_minor": 4
}

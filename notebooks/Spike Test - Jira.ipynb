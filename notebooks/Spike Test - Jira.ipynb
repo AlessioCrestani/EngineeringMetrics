{
 "cells": [
  {
   "cell_type": "code",
   "execution_count": 1,
   "metadata": {
    "slideshow": {
     "slide_type": "skip"
    }
   },
   "outputs": [
    {
     "name": "stdout",
     "output_type": "stream",
     "text": [
      "/Users/lswolkien/Devel/EngineeringMetrics\n"
     ]
    },
    {
     "data": {
      "text/markdown": [
       "`Report executed at 2020-06-16 09:49`"
      ],
      "text/plain": [
       "<IPython.core.display.Markdown object>"
      ]
     },
     "execution_count": 1,
     "metadata": {},
     "output_type": "execute_result"
    }
   ],
   "source": [
    "# Change directory to workspace root so that relative path loads work correctly.\n",
    "import os\n",
    "try:\n",
    "    os.chdir(os.path.join(os.getcwd(), '../'))\n",
    "    print(os.getcwd())\n",
    "except:\n",
    "    pass\n",
    "from ia.common.jira.connection import connect\n",
    "import ia.common.jira.issue as ticket\n",
    "\n",
    "from IPython.display import Markdown as md\n",
    "import datetime\n",
    "import json\n",
    "import re\n",
    "\n",
    "report_start_time = datetime.datetime.now()\n",
    "report_timestamp = f'`Report executed at {report_start_time:%Y-%m-%d %H:%M}`'\n",
    "md(report_timestamp)"
   ]
  },
  {
   "cell_type": "markdown",
   "metadata": {},
   "source": [
    "# Access variables"
   ]
  },
  {
   "cell_type": "code",
   "execution_count": 2,
   "metadata": {},
   "outputs": [],
   "source": [
    "jira_url = os.environ['JIRA_URL']\n",
    "jira_username = os.environ['JIRA_USERNAME']\n",
    "jira_password = os.environ['JIRA_PASSWORD']\n"
   ]
  },
  {
   "cell_type": "code",
   "execution_count": 3,
   "metadata": {},
   "outputs": [],
   "source": [
    "jira = connect(jira_url, basic_auth=(jira_username, jira_password))\n"
   ]
  },
  {
   "cell_type": "code",
   "execution_count": 4,
   "metadata": {},
   "outputs": [],
   "source": [
    "issue_story = ticket.get_issue_by_key(jira, \"DANSDP-1258\")"
   ]
  },
  {
   "cell_type": "code",
   "execution_count": 5,
   "metadata": {},
   "outputs": [
    {
     "name": "stdout",
     "output_type": "stream",
     "text": [
      "DANMR-144 - Blocks - outwardIssue\n",
      "DANMR-520 - Blocks - outwardIssue\n",
      "GPLAT-4145 - Blocks - inwardIssue\n",
      "GPLAT-4105 - Blocks - inwardIssue\n",
      "GPLAT-4148 - Blocks - inwardIssue\n",
      "DANSDP-1400 - Related To - outwardIssue\n",
      "DANSDP-1408 - Related To - inwardIssue\n",
      "DANSDP-665 - Related To - inwardIssue\n"
     ]
    }
   ],
   "source": [
    "for link in issue_story.fields.issuelinks:\n",
    "    l_type = 'inwardIssue' if hasattr(link, 'inwardIssue') else 'outwardIssue'\n",
    "    link.key = getattr(link, l_type).key\n",
    "    print(f'{link.key} - {link.type.name} - {l_type}')"
   ]
  },
  {
   "cell_type": "code",
   "execution_count": 6,
   "metadata": {},
   "outputs": [],
   "source": [
    "boards = [\n",
    "    \"Retention - Sprint board\",\n",
    "    \"SDP Migration - Stories Board\",\n",
    "    \"COE - Sprint board\",\n",
    "    \"SDP Core - Sprint Board\",\n",
    "    \"SDP Tools & Frameworks - Sprint Board\",\n",
    "    \"MrGreen Core Board\",\n",
    "    \"UNO Core - Sprint board\"\n",
    "]"
   ]
  },
  {
   "cell_type": "code",
   "execution_count": 49,
   "metadata": {},
   "outputs": [],
   "source": [
    "board_sre = jira.boards(type=\"scrum\", name=\"SRE - Sprint Board\")"
   ]
  },
  {
   "cell_type": "code",
   "execution_count": 50,
   "metadata": {},
   "outputs": [
    {
     "data": {
      "text/plain": [
       "['__add__',\n",
       " '__class__',\n",
       " '__contains__',\n",
       " '__delattr__',\n",
       " '__delitem__',\n",
       " '__dict__',\n",
       " '__dir__',\n",
       " '__doc__',\n",
       " '__eq__',\n",
       " '__format__',\n",
       " '__ge__',\n",
       " '__getattribute__',\n",
       " '__getitem__',\n",
       " '__gt__',\n",
       " '__hash__',\n",
       " '__iadd__',\n",
       " '__imul__',\n",
       " '__init__',\n",
       " '__init_subclass__',\n",
       " '__iter__',\n",
       " '__le__',\n",
       " '__len__',\n",
       " '__lt__',\n",
       " '__module__',\n",
       " '__mul__',\n",
       " '__ne__',\n",
       " '__new__',\n",
       " '__next__',\n",
       " '__reduce__',\n",
       " '__reduce_ex__',\n",
       " '__repr__',\n",
       " '__reversed__',\n",
       " '__rmul__',\n",
       " '__setattr__',\n",
       " '__setitem__',\n",
       " '__sizeof__',\n",
       " '__str__',\n",
       " '__subclasshook__',\n",
       " '__weakref__',\n",
       " 'append',\n",
       " 'clear',\n",
       " 'copy',\n",
       " 'count',\n",
       " 'current',\n",
       " 'extend',\n",
       " 'index',\n",
       " 'insert',\n",
       " 'isLast',\n",
       " 'iterable',\n",
       " 'maxResults',\n",
       " 'next',\n",
       " 'pop',\n",
       " 'remove',\n",
       " 'reverse',\n",
       " 'sort',\n",
       " 'startAt',\n",
       " 'total']"
      ]
     },
     "execution_count": 50,
     "metadata": {},
     "output_type": "execute_result"
    }
   ],
   "source": [
    "dir(board_sre)"
   ]
  },
  {
   "cell_type": "code",
   "execution_count": 47,
   "metadata": {},
   "outputs": [
    {
     "name": "stdout",
     "output_type": "stream",
     "text": [
      "Retention - Sprint board (19)-> DE Sprint 8 (2019-09-11) - Retention Sprint 26 (2020-05-20) \n",
      "1. DE Sprint 8\n",
      "2. Retention Sprint 10\n",
      "3. Retention Sprint 11\n",
      "4. Retention Sprint 12\n",
      "5. Retention Sprint 13\n",
      "6. SDP-DI Sprint 13\n",
      "7. Retention Sprint 14\n",
      "8. Retention Sprint 15\n",
      "9. Retention Sprint 16\n",
      "10. Retention Sprint 17\n",
      "11. Retention Sprint 18\n",
      "12. Retention Sprint 19\n",
      "13. Retention Sprint 20\n",
      "14. Retention Sprint 21\n",
      "15. Retention Sprint 22\n",
      "16. Retention Sprint 23\n",
      "17. Retention Sprint 24\n",
      "18. Retention Sprint 25\n",
      "19. Retention Sprint 26\n",
      "==============\n",
      "SDP Migration - Stories Board (20)-> SDP- MrGreen Sprint 11 (2019-10-23) - SDP Core Platform Sprint 26 (2020-05-20) \n",
      "1. SDP- MrGreen Sprint 11\n",
      "2. SDP - MrGreen  Sprint 12\n",
      "3. SDP-DI2 Sprint 16\n",
      "4. SDP-DI Sprint 17\n",
      "5. SDP-DI Sprint 18\n",
      "6. SDP-DI Sprint 19\n",
      "7. SDP-DI Sprint 18\n",
      "8. SDP-DI Sprint 20\n",
      "9. SDP-DI Sprint 19\n",
      "10. SDP - MrGreen Sprint 20\n",
      "11. SDP-DI Sprint 21\n",
      "12. SDP - MrGreen Sprint 21\n",
      "13. SDP-DI Sprint 22\n",
      "14. SDP Core Platform Sprint 24\n",
      "15. SDP - MrGreen Sprint 22\n",
      "16. SDP Migration Sprint 23\n",
      "17. SDP Migration Sprint 24\n",
      "18. SDP Migration Sprint 25\n",
      "19. SDP Migration Sprint 26\n",
      "20. SDP Core Platform Sprint 26\n",
      "==============\n",
      "COE - Sprint board (20)-> COE Sprint 7 (2019-08-28) - COE Sprint 26 (2020-05-20) \n",
      "1. COE Sprint 7\n",
      "2. COE Sprint 8\n",
      "3. COE Sprint 9\n",
      "4. COE Sprint 10\n",
      "5. COE Sprint 11\n",
      "6. COE Sprint 12\n",
      "7. COE Sprint 13\n",
      "8. COE Sprint 14\n",
      "9. COE Sprint 15\n",
      "10. COE Sprint 16\n",
      "11. COE Sprint 17\n",
      "12. COE Sprint 18\n",
      "13. COE Sprint 19\n",
      "14. COE Sprint 20\n",
      "15. COE Sprint 21\n",
      "16. COE Sprint 22\n",
      "17. COE Sprint 23\n",
      "18. COE Sprint 24\n",
      "19. COE Sprint 25\n",
      "20. COE Sprint 26\n",
      "==============\n",
      "SDP Core - Sprint Board (41)-> SDP Sprint 1 (2019-06-05) - SDP Core Platform Sprint 26 (2020-05-20) \n",
      "1. SDP Sprint 1\n",
      "2. SDP Sprint 2\n",
      "3. SDP Sprint 3\n",
      "4. SDP Sprint 4\n",
      "5. SDP Sprint 5\n",
      "6. SDP Sprint 6\n",
      "7. SDP Sprint 7\n",
      "8. SDP Sprint 8\n",
      "9. SDP Core Platform Sprint 9\n",
      "10. SDP US - Sprint 8\n",
      "11. SDP Core Platform Sprint 10\n",
      "12. SDP-DI Sprint 10\n",
      "13. SDP- MrGreen Sprint 11\n",
      "14. SDP Core Platform Sprint 11\n",
      "15. SDP-DI Sprint 12\n",
      "16. SDP Core Platform Sprint 12\n",
      "17. Retention Sprint 13\n",
      "18. SDP Core Platform Sprint 13\n",
      "19. SDP Core Platform Sprint 14\n",
      "20. SDP-DI Sprint 13\n",
      "21. SDP-DI Sprint 14\n",
      "22. SDP-DI Sprint 15\n",
      "23. SDP Core Platform Sprint 15\n",
      "24. SDP-DI2 Sprint 16\n",
      "25. SDP-DI Sprint 17\n",
      "26. SDP Core Platform Sprint 16\n",
      "27. SDP Core Platform Sprint 17\n",
      "28. SDP Core Platform Sprint 18\n",
      "29. SDP-DI Sprint 19\n",
      "30. SDP-DI Sprint 18\n",
      "31. SDP Core Platform Sprint 19\n",
      "32. SDP Core Platform Sprint 20\n",
      "33. SDP Core Platform Sprint 21\n",
      "34. SDP-DI Sprint 21\n",
      "35. SDP Core Platform Sprint 22\n",
      "36. SDP-DI Sprint 22\n",
      "37. SDP Core Platform Sprint 23\n",
      "38. SDP Core Platform Sprint 24\n",
      "39. SDPTF Sprint 25\n",
      "40. SDP Core Platform Sprint 25\n",
      "41. SDP Core Platform Sprint 26\n",
      "==============\n",
      "SDP Tools & Frameworks - Sprint Board (31)-> SDP Core Platform Sprint 9 (2019-09-25) - SDPTF Sprint 26 (2020-05-20) \n",
      "1. SDP Core Platform Sprint 9\n",
      "2. SDP US - Sprint 8\n",
      "3. SDP US - Sprint 10\n",
      "4. SDP US - Sprint 9\n",
      "5. SDP US - Sprint 11\n",
      "6. SDP Core Platform Sprint 10\n",
      "7. SDP Core Platform Sprint 11\n",
      "8. SDP Core Platform Sprint 12\n",
      "9. SDP Core Platform Sprint 13\n",
      "10. SDP-DI Sprint 13\n",
      "11. SDPTF Sprint 14\n",
      "12. SDP-DI Sprint 14\n",
      "13. SDP-DI Sprint 15\n",
      "14. SDP-DI2 Sprint 16\n",
      "15. SDP-DI Sprint 17\n",
      "16. SDPTF Sprint 16\n",
      "17. SDP Core Platform Sprint 17\n",
      "18. SDP-DI Sprint 18\n",
      "19. SDP Core Platform Sprint 18\n",
      "20. SDP-DI Sprint 19\n",
      "21. SDP-DI Sprint 18\n",
      "22. SDP-DI Sprint 20\n",
      "23. SDP-DI Sprint 19\n",
      "24. SDP Core Platform Sprint 20\n",
      "25. SDP-DI Sprint 21\n",
      "26. SDP-DI Sprint 22\n",
      "27. SDPTF Sprint 24\n",
      "28. SDP Migration Sprint 24\n",
      "29. SDPTF Sprint 25\n",
      "30. SDPTF Sprint 25\n",
      "31. SDPTF Sprint 26\n",
      "==============\n",
      "MrGreen Core Board (1)-> MrGreen Core Sprint 111 (2020-05-21) - MrGreen Core Sprint 111 (2020-05-21) \n",
      "1. MrGreen Core Sprint 111\n",
      "==============\n",
      "UNO Core - Sprint board (14)-> UNO Sprint 10 (2019-10-10) - UNO Sprint 30 (2020-07-15) \n",
      "1. UNO Sprint 10\n",
      "2. UNO Sprint 13\n",
      "3. UNO Sprint 14\n",
      "4. UNO Sprint 17\n",
      "5. UNO Sprint 18\n",
      "6. UNO Sprint 19\n",
      "7. UNO Sprint 20\n",
      "8. UNO Sprint 21\n",
      "9. UNO Sprint 22\n",
      "10. UNO Sprint 23\n",
      "11. UNO Sprint 24\n",
      "12. UNO Sprint 25\n",
      "13. UNO Sprint 26\n",
      "14. UNO Sprint 30\n",
      "==============\n"
     ]
    }
   ],
   "source": [
    "import re\n",
    "for board_name in boards:\n",
    "    board = jira.boards(type=\"scrum\", name=board_name)[0]\n",
    "    \n",
    "    current_sprint = jira.sprints(board_id=board.id, state='active')[0]\n",
    "    \n",
    "    \n",
    "    \n",
    "    sprints = []\n",
    "    startAt = 0\n",
    "    while True:\n",
    "        batch = jira.sprints(board_id=board.id, state='closed', startAt=startAt, maxResults=10)\n",
    "        sprints += batch\n",
    "        if len(batch) < 10:\n",
    "            break\n",
    "        startAt += len(batch)\n",
    "    \n",
    "    print(f'{board_name} ({len(sprints)})-> {sprints[0]} ({sprints[0].startDate[0:10]}) - {sprints[-1]} ({sprints[-1].startDate[0:10]}) ')\n",
    "    \n",
    "#     numbers_in_sprint_name = [int(s) for s in re.findall(r'\\b\\d+\\b', current_sprint.name)][-1]\n",
    "#     print(f'startAt = {numbers_in_sprint_name-len(sprints)}')\n",
    "    for i, s in enumerate(sprints, start=1):\n",
    "        print(f'{i}. {s}')\n",
    "    print(\"==============\")\n",
    "    "
   ]
  },
  {
   "cell_type": "code",
   "execution_count": 48,
   "metadata": {},
   "outputs": [
    {
     "data": {
      "text/plain": [
       "4420497232"
      ]
     },
     "execution_count": 48,
     "metadata": {},
     "output_type": "execute_result"
    }
   ],
   "source": [
    "id(sprints)"
   ]
  },
  {
   "cell_type": "code",
   "execution_count": 33,
   "metadata": {},
   "outputs": [
    {
     "name": "stdout",
     "output_type": "stream",
     "text": [
      "None\n"
     ]
    }
   ],
   "source": [
    "print(sprints.total)"
   ]
  },
  {
   "cell_type": "code",
   "execution_count": 10,
   "metadata": {},
   "outputs": [
    {
     "name": "stdout",
     "output_type": "stream",
     "text": [
      "2019-10-10T12:45:00.000Z\n"
     ]
    }
   ],
   "source": [
    "print(sprint.startDate)"
   ]
  },
  {
   "cell_type": "code",
   "execution_count": 11,
   "metadata": {},
   "outputs": [
    {
     "data": {
      "text/plain": [
       "'UNO Sprint 10'"
      ]
     },
     "execution_count": 11,
     "metadata": {},
     "output_type": "execute_result"
    }
   ],
   "source": [
    "sprint.name\n"
   ]
  },
  {
   "cell_type": "code",
   "execution_count": 12,
   "metadata": {},
   "outputs": [
    {
     "data": {
      "text/markdown": [
       "` Report finished at 2020-06-16 09:49, time elapsed: 0:00:18.925869`"
      ],
      "text/plain": [
       "<IPython.core.display.Markdown object>"
      ]
     },
     "execution_count": 12,
     "metadata": {},
     "output_type": "execute_result"
    }
   ],
   "source": [
    "report_end_time = datetime.datetime.now()\n",
    "report_timestamp = f'` Report finished at {report_end_time:%Y-%m-%d %H:%M}, time elapsed: {report_end_time - report_start_time}`'\n",
    "md(report_timestamp)\n"
   ]
  }
 ],
 "metadata": {
  "kernelspec": {
   "display_name": "Python 3",
   "language": "python",
   "name": "python3"
  },
  "language_info": {
   "codemirror_mode": {
    "name": "ipython",
    "version": 3
   },
   "file_extension": ".py",
   "mimetype": "text/x-python",
   "name": "python",
   "nbconvert_exporter": "python",
   "pygments_lexer": "ipython3",
   "version": "3.7.7"
  }
 },
 "nbformat": 4,
 "nbformat_minor": 4
}

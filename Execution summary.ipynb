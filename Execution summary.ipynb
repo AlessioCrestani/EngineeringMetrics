{
 "cells": [
  {
   "cell_type": "code",
   "execution_count": 1,
   "metadata": {},
   "outputs": [
    {
     "name": "stdout",
     "output_type": "stream",
     "text": [
      "/Users/lswolkien/Devel/EngineeringMetrics\n"
     ]
    }
   ],
   "source": [
    "from IPython.display import Markdown as md\n",
    "import datetime\n",
    "import os\n",
    "try:\n",
    "    os.chdir(os.path.join(os.getcwd(), '../'))\n",
    "    print(os.getcwd())\n",
    "except:\n",
    "    pass\n",
    "\n",
    "from ia.common.jira.connection import connect\n",
    "import ia.common.jira.issue as ticket\n",
    "import ia.execution.algo as algo\n",
    "import ia.execution.conf.components as components\n",
    "import ia.common.viz.conf.dashboard as conf\n",
    "import datetime\n",
    "\n",
    "# Access variables\n",
    "jira_url = os.environ['JIRA_URL']\n",
    "jira_username = os.environ['JIRA_USERNAME']\n",
    "jira_password = os.environ['JIRA_PASSWORD']\n",
    "\n",
    "conf_url = os.environ['CONFLUENCE_URL']\n",
    "conf_username = os.environ['CONFLUENCE_USERNAME']\n",
    "conf_password = os.environ['CONFLUENCE_PASSWORD']\n",
    "\n",
    "# Report variables\n",
    "space = \"~lswolkien\"\n",
    "parent_page = \"Reports\"\n",
    "page_title = \"DM execution report\"\n",
    "projects = {\n",
    "    'DANCOE': \"DANCOE - Dependencies after refinement\",\n",
    "    'DANMR': \"DANMR - Dependencies after refinement\",\n",
    "    'DANSDP': \"DANSDP - Dependencies after refinement\",\n",
    "    'DANTF': \"DANTF - Dependencies after refinement\",\n",
    "    'DANMIG': \"DANMIG - Dependencies after refinement\",\n",
    "    'DANMRGCORE': \"DANMRGCORE - Dependencies after refinement\"\n",
    "}\n",
    "\n",
    "dashboard = conf.Dashboard(conf_url, conf_username, conf_password, page_title, space, parent_page)\n",
    "jira_access = connect(jira_url, basic_auth=(jira_username, jira_password))\n",
    "\n",
    "projects_progress = {}\n",
    "\n",
    "for project_key, _ in projects.items():\n",
    "    projects_progress[project_key] = algo.active_sprint_progress(jira_access, project_key)\n",
    "\n",
    "\n",
    "report_head = conf.Component(\n",
    "    conf.report_head, # callable which returns content and attachments for the dashboard element\n",
    "    [f\"DM execution report in current sprint\", \"Percentage of work commited to delivered\"] # arguments for callable object\n",
    ")\n",
    "\n",
    "report_execution = conf.Component(\n",
    "    components.execution_report,\n",
    "    [projects_progress]\n",
    ")\n",
    "\n",
    "# Create or Overwrite Confluance page\n",
    "dashboard.publish([report_head, report_execution])"
   ]
  },
  {
   "cell_type": "code",
   "execution_count": 2,
   "metadata": {},
   "outputs": [],
   "source": [
    "import glob\n",
    "files = glob.glob('*.png')\n",
    "for filename in files:\n",
    "    try:\n",
    "        os.remove(filename)\n",
    "    except:\n",
    "        print(\"Error while deleting file : \", filename)"
   ]
  }
 ],
 "metadata": {
  "kernelspec": {
   "display_name": "Python 3.7.7 64-bit ('venv': venv)",
   "language": "python",
   "name": "python37764bitvenvvenvb14993d9f44f403eab06318cd13bff2c"
  },
  "language_info": {
   "codemirror_mode": {
    "name": "ipython",
    "version": 3
   },
   "file_extension": ".py",
   "mimetype": "text/x-python",
   "name": "python",
   "nbconvert_exporter": "python",
   "pygments_lexer": "ipython3",
   "version": "3.7.7"
  }
 },
 "nbformat": 4,
 "nbformat_minor": 4
}
